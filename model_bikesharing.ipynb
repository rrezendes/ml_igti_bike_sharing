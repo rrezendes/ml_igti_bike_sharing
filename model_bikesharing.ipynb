{
 "cells": [
  {
   "cell_type": "markdown",
   "metadata": {},
   "source": [
    "# Exploratory Data Analysis - Bike Sharing"
   ]
  },
  {
   "cell_type": "code",
   "execution_count": 1,
   "metadata": {},
   "outputs": [],
   "source": [
    "import pandas as pd\n",
    "import seaborn as sns\n",
    "import matplotlib.pyplot as plt"
   ]
  },
  {
   "cell_type": "code",
   "execution_count": 2,
   "metadata": {},
   "outputs": [],
   "source": [
    "df_base = pd.read_csv(\"comp_bikes_mod.csv\")"
   ]
  },
  {
   "cell_type": "code",
   "execution_count": 3,
   "metadata": {},
   "outputs": [],
   "source": [
    "df = df_base\n",
    "df = df.dropna(subset = ['dteday'])"
   ]
  },
  {
   "cell_type": "code",
   "execution_count": 4,
   "metadata": {},
   "outputs": [],
   "source": [
    "pd.options.mode.chained_assignment = None  # default='warn'\n",
    "df['dteday'] = pd.to_datetime(df['dteday'])"
   ]
  },
  {
   "cell_type": "code",
   "execution_count": 5,
   "metadata": {},
   "outputs": [
    {
     "name": "stdout",
     "output_type": "stream",
     "text": [
      "<class 'pandas.core.frame.DataFrame'>\n",
      "Int64Index: 15641 entries, 1 to 17378\n",
      "Data columns (total 17 columns):\n",
      " #   Column      Non-Null Count  Dtype         \n",
      "---  ------      --------------  -----         \n",
      " 0   instant     14060 non-null  float64       \n",
      " 1   dteday      15641 non-null  datetime64[ns]\n",
      " 2   season      14061 non-null  float64       \n",
      " 3   yr          14076 non-null  float64       \n",
      " 4   mnth        14062 non-null  float64       \n",
      " 5   hr          14068 non-null  float64       \n",
      " 6   holiday     14076 non-null  float64       \n",
      " 7   weekday     14078 non-null  float64       \n",
      " 8   workingday  14097 non-null  float64       \n",
      " 9   weathersit  14078 non-null  float64       \n",
      " 10  temp        14066 non-null  float64       \n",
      " 11  atemp       14076 non-null  float64       \n",
      " 12  hum         14070 non-null  float64       \n",
      " 13  windspeed   14082 non-null  float64       \n",
      " 14  casual      14071 non-null  float64       \n",
      " 15  registered  14090 non-null  float64       \n",
      " 16  cnt         14079 non-null  float64       \n",
      "dtypes: datetime64[ns](1), float64(16)\n",
      "memory usage: 2.1 MB\n"
     ]
    }
   ],
   "source": [
    "df.info()"
   ]
  }
 ],
 "metadata": {
  "kernelspec": {
   "display_name": "Python 3",
   "language": "python",
   "name": "python3"
  },
  "language_info": {
   "codemirror_mode": {
    "name": "ipython",
    "version": 3
   },
   "file_extension": ".py",
   "mimetype": "text/x-python",
   "name": "python",
   "nbconvert_exporter": "python",
   "pygments_lexer": "ipython3",
   "version": "3.7.6"
  }
 },
 "nbformat": 4,
 "nbformat_minor": 4
}
